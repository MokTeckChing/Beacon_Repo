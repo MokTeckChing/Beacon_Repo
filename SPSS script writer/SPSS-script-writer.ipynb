{
 "cells": [
  {
   "cell_type": "markdown",
   "metadata": {},
   "source": [
    "# Functions\n",
    "do not edit"
   ]
  },
  {
   "cell_type": "code",
   "execution_count": null,
   "metadata": {},
   "outputs": [],
   "source": [
    "import pandas as pd\n",
    "import pyreadstat\n",
    "\n",
    "# function for range check writer\n",
    "def range_check(qn, low, high):  \n",
    "    result = f\"USE ALL.\\nCOMPUTE filter_$=({qn}<{low} or {qn}>{high}).\\nVARIABLE LABELS filter_$ 'cleaning(FILTER)'.\\nVALUE LABELS filter_$ 0 'Not Selected' 1 'Selected'.\\nFORMATS filter_$ (f1.0).\\nFILTER BY filter_$.\\nEXECUTE.\\n\\nFREQUENCIES VARIABLES=id\\n/ORDER=ANALYSIS.\\n\"\n",
    "    return result\n",
    "\n",
    "def range_check_na(qn, low, high, na_val):  \n",
    "    result = f\"USE ALL.\\nCOMPUTE filter_$=({qn}<{low} or {qn}>{high} and {qn}~={na_val}).\\nVARIABLE LABELS filter_$ 'cleaning(FILTER)'.\\nVALUE LABELS filter_$ 0 'Not Selected' 1 'Selected'.\\nFORMATS filter_$ (f1.0).\\nFILTER BY filter_$.\\nEXECUTE.\\n\\nFREQUENCIES VARIABLES=id\\n/ORDER=ANALYSIS.\\n\"\n",
    "    return result\n",
    "\n",
    "# function for missing check writer\n",
    "def missing(list1):\n",
    "    for i in list1:\n",
    "        print(f\"\\nUSE ALL.\\nCOMPUTE filter_$=(missing({i})).\\nVARIABLE LABELS filter_$ 'cleaning (FILTER)'.\\nVALUE LABELS filter_$ 0 'Not Selected' 1 'Selected'.\\nFORMATS filter_$ (f1.0).\\nFILTER BY filter_$.\\nEXECUTE.\\n\\nFREQUENCIES VARIABLES=caseno\\n  /ORDER=ANALYSIS.\")\n",
    "\n",
    "# counter for range check writer\n",
    "counter = 1        "
   ]
  },
  {
   "cell_type": "markdown",
   "metadata": {},
   "source": [
    "#### Change the box below"
   ]
  },
  {
   "cell_type": "code",
   "execution_count": null,
   "metadata": {},
   "outputs": [],
   "source": [
    "na_val = 99\n",
    "filepath = \"data/test1.sav\""
   ]
  },
  {
   "cell_type": "markdown",
   "metadata": {},
   "source": [
    "# Range check writer (advanced version)"
   ]
  },
  {
   "cell_type": "code",
   "execution_count": null,
   "metadata": {
    "scrolled": false
   },
   "outputs": [],
   "source": [
    "df, meta = pyreadstat.read_sav(f'{filepath}')\n",
    "\n",
    "for qn,variables in meta.variable_value_labels.items():\n",
    "    \n",
    "    if df[f'{qn}'].dtype == float:\n",
    "    \n",
    "        ran = list(variables.keys())\n",
    "        try:\n",
    "            ran = ran.remove(na_val)\n",
    "        except:\n",
    "            pass\n",
    "        lowest = min(ran)\n",
    "        highest = max(ran)\n",
    "        print (range_check_na(qn, lowest, highest, na_val))"
   ]
  },
  {
   "cell_type": "markdown",
   "metadata": {},
   "source": [
    "# Range check writer (basic version)"
   ]
  },
  {
   "cell_type": "markdown",
   "metadata": {},
   "source": [
    "change the box below for basic writer only"
   ]
  },
  {
   "cell_type": "code",
   "execution_count": null,
   "metadata": {},
   "outputs": [],
   "source": [
    "# Last in the series of questions\n",
    "last = 5\n",
    "\n",
    "# Question Number\n",
    "qno = \"q2a\" \n",
    "\n",
    "# Lowest possible value\n",
    "low = 1 \n",
    "\n",
    "# Highest possible value\n",
    "high = 5\n",
    "\n",
    "# Value that \"Not applicable\" is coded as\n",
    "na_val = 99"
   ]
  },
  {
   "cell_type": "markdown",
   "metadata": {},
   "source": [
    "#### Shift + Enter box below to print without NA values"
   ]
  },
  {
   "cell_type": "code",
   "execution_count": null,
   "metadata": {},
   "outputs": [],
   "source": [
    "while counter <= last:\n",
    "    qn = qno + str(counter)\n",
    "    print (range_check(qn, low, high))\n",
    "    counter += 1\n",
    "\n",
    "counter = 1"
   ]
  },
  {
   "cell_type": "markdown",
   "metadata": {},
   "source": [
    "#### Shift + Enter box below to print with NA values"
   ]
  },
  {
   "cell_type": "code",
   "execution_count": null,
   "metadata": {},
   "outputs": [],
   "source": [
    "while counter <= last:\n",
    "    qn = qno + str(counter)\n",
    "    print (range_check_na(qn, low, high, na_val))\n",
    "    counter += 1\n",
    "    \n",
    "counter = 1"
   ]
  },
  {
   "cell_type": "markdown",
   "metadata": {},
   "source": [
    "# Missing check writer"
   ]
  },
  {
   "cell_type": "code",
   "execution_count": null,
   "metadata": {},
   "outputs": [],
   "source": [
    "df = pd.read_spss(f'{filepath}')"
   ]
  },
  {
   "cell_type": "code",
   "execution_count": null,
   "metadata": {
    "scrolled": true
   },
   "outputs": [],
   "source": [
    "# add all question numbers to list\n",
    "qn_list = list(df.columns)\n",
    "\n",
    "missing(qn_list)"
   ]
  }
 ],
 "metadata": {
  "kernelspec": {
   "display_name": "Python 3",
   "language": "python",
   "name": "python3"
  },
  "language_info": {
   "codemirror_mode": {
    "name": "ipython",
    "version": 3
   },
   "file_extension": ".py",
   "mimetype": "text/x-python",
   "name": "python",
   "nbconvert_exporter": "python",
   "pygments_lexer": "ipython3",
   "version": "3.8.3"
  }
 },
 "nbformat": 4,
 "nbformat_minor": 5
}
